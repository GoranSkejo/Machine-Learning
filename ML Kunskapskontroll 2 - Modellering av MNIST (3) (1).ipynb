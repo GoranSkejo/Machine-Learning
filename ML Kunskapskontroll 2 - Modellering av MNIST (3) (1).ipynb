{
 "cells": [
  {
   "cell_type": "code",
   "execution_count": 1,
   "id": "5d5bf053-9b08-4959-9a17-0f4d6e85ced0",
   "metadata": {},
   "outputs": [],
   "source": [
    "import numpy as np\n",
    "import pandas as pd\n",
    "import matplotlib.pyplot as plt\n",
    "import matplotlib as mpl\n",
    "import seaborn as sns\n",
    "from sklearn.datasets import fetch_openml\n",
    "from sklearn.svm import SVC\n",
    "from sklearn.neighbors import KNeighborsClassifier\n",
    "from sklearn.naive_bayes import GaussianNB\n",
    "from sklearn.tree import DecisionTreeClassifier\n",
    "from sklearn.metrics import accuracy_score, precision_score, recall_score, f1_score, confusion_matrix, ConfusionMatrixDisplay\n",
    "from sklearn.preprocessing import StandardScaler\n",
    "from sklearn.ensemble import RandomForestClassifier\n",
    "from sklearn.model_selection import train_test_split, GridSearchCV"
   ]
  },
  {
   "cell_type": "code",
   "execution_count": 5,
   "id": "4c0bed76-0b46-447d-a3cf-8f07bf65e110",
   "metadata": {},
   "outputs": [
    {
     "name": "stdout",
     "output_type": "stream",
     "text": [
      "**Author**: Yann LeCun, Corinna Cortes, Christopher J.C. Burges  \n",
      "**Source**: [MNIST Website](http://yann.lecun.com/exdb/mnist/) - Date unknown  \n",
      "**Please cite**:  \n",
      "\n",
      "The MNIST database of handwritten digits with 784 features, raw data available at: http://yann.lecun.com/exdb/mnist/. It can be split in a training set of the first 60,000 examples, and a test set of 10,000 examples  \n",
      "\n",
      "It is a subset of a larger set available from NIST. The digits have been size-normalized and centered in a fixed-size image. It is a good database for people who want to try learning techniques and pattern recognition methods on real-world data while spending minimal efforts on preprocessing and formatting. The original black and white (bilevel) images from NIST were size normalized to fit in a 20x20 pixel box while preserving their aspect ratio. The resulting images contain grey levels as a result of the anti-aliasing technique used by the normalization algorithm. the images were centered in a 28x28 image by computing the center of mass of the pixels, and translating the image so as to position this point at the center of the 28x28 field.  \n",
      "\n",
      "With some classification methods (particularly template-based methods, such as SVM and K-nearest neighbors), the error rate improves when the digits are centered by bounding box rather than center of mass. If you do this kind of pre-processing, you should report it in your publications. The MNIST database was constructed from NIST's NIST originally designated SD-3 as their training set and SD-1 as their test set. However, SD-3 is much cleaner and easier to recognize than SD-1. The reason for this can be found on the fact that SD-3 was collected among Census Bureau employees, while SD-1 was collected among high-school students. Drawing sensible conclusions from learning experiments requires that the result be independent of the choice of training set and test among the complete set of samples. Therefore it was necessary to build a new database by mixing NIST's datasets.  \n",
      "\n",
      "The MNIST training set is composed of 30,000 patterns from SD-3 and 30,000 patterns from SD-1. Our test set was composed of 5,000 patterns from SD-3 and 5,000 patterns from SD-1. The 60,000 pattern training set contained examples from approximately 250 writers. We made sure that the sets of writers of the training set and test set were disjoint. SD-1 contains 58,527 digit images written by 500 different writers. In contrast to SD-3, where blocks of data from each writer appeared in sequence, the data in SD-1 is scrambled. Writer identities for SD-1 is available and we used this information to unscramble the writers. We then split SD-1 in two: characters written by the first 250 writers went into our new training set. The remaining 250 writers were placed in our test set. Thus we had two sets with nearly 30,000 examples each. The new training set was completed with enough examples from SD-3, starting at pattern # 0, to make a full set of 60,000 training patterns. Similarly, the new test set was completed with SD-3 examples starting at pattern # 35,000 to make a full set with 60,000 test patterns. Only a subset of 10,000 test images (5,000 from SD-1 and 5,000 from SD-3) is available on this site. The full 60,000 sample training set is available.\n",
      "\n",
      "Downloaded from openml.org.\n"
     ]
    }
   ],
   "source": [
    "mnist = fetch_openml('mnist_784', version = 1, cache = True, as_frame = False) \n",
    "print(mnist.DESCR)"
   ]
  },
  {
   "cell_type": "code",
   "execution_count": 3,
   "id": "66905cfe-d562-48c8-ac01-f1984a54c5bc",
   "metadata": {},
   "outputs": [
    {
     "name": "stdout",
     "output_type": "stream",
     "text": [
      "Data shape: (70000, 784)\n",
      "Target shape: (70000,)\n"
     ]
    }
   ],
   "source": [
    "# Accessing basic information\n",
    "print(\"Data shape:\", mnist.data.shape)\n",
    "print(\"Target shape:\", mnist.target.shape)"
   ]
  },
  {
   "cell_type": "code",
   "execution_count": 4,
   "id": "fbcf4db5-3d00-4e81-b627-034207269030",
   "metadata": {},
   "outputs": [
    {
     "name": "stdout",
     "output_type": "stream",
     "text": [
      "No missing values found in the MNIST dataset.\n"
     ]
    }
   ],
   "source": [
    "# Checking for missing values\n",
    "missing_values = np.isnan(mnist.data).sum()\n",
    "\n",
    "if missing_values == 0:\n",
    "    print(\"No missing values found in the MNIST dataset.\")\n",
    "else:\n",
    "    print(\"There are\", missing_values, \"missing values in the MNIST dataset.\")"
   ]
  },
  {
   "cell_type": "code",
   "execution_count": 9,
   "id": "e5f2dc11-7ec9-4f17-8a85-6cad588504a4",
   "metadata": {},
   "outputs": [],
   "source": [
    "X = mnist[\"data\"]\n",
    "y = mnist[\"target\"].astype(np.uint8) \n",
    "\n",
    "# Split the data into training and testing sets (already split?)\n",
    "X_train, X_test, y_train, y_test = train_test_split(X, y, test_size=1/7, random_state=42)"
   ]
  },
  {
   "cell_type": "code",
   "execution_count": 11,
   "id": "af636d29-88ed-4615-95b9-730db760d70c",
   "metadata": {},
   "outputs": [
    {
     "data": {
      "image/png": "[encoded data removed]",
      "text/plain": [
       "<Figure size 1000x400 with 10 Axes>"
      ]
     },
     "metadata": {},
     "output_type": "display_data"
    }
   ],
   "source": [
    "# Plotting the first 10 images\n",
    "fig, axes = plt.subplots(nrows=2, ncols=5, figsize=(10, 4))\n",
    "\n",
    "for i, ax in enumerate(axes.flat):\n",
    "    inverted_image = 1 - X[i].reshape(28, 28)  # Invert the colors\n",
    "    ax.imshow(inverted_image, cmap='gray')\n",
    "    ax.set_title(f\"Label: {y[i]}\")\n",
    "    ax.axis('off')\n",
    "\n",
    "plt.tight_layout()\n",
    "plt.show()"
   ]
  },
  {
   "cell_type": "code",
   "execution_count": 12,
   "id": "b5668540-9d6a-42ee-92f7-16cc633c8dca",
   "metadata": {},
   "outputs": [
    {
     "name": "stdout",
     "output_type": "stream",
     "text": [
      "Percentage of each digit in the train set:\n",
      "Percentage of digit 0: 9.87%\n",
      "Percentage of digit 1: 11.21%\n",
      "Percentage of digit 2: 10.04%\n",
      "Percentage of digit 3: 10.18%\n",
      "Percentage of digit 4: 9.86%\n",
      "Percentage of digit 5: 8.96%\n",
      "Percentage of digit 6: 9.86%\n",
      "Percentage of digit 7: 10.40%\n",
      "Percentage of digit 8: 9.76%\n",
      "Percentage of digit 9: 9.87%\n",
      "\n",
      "Percentage of each digit in the test set:\n",
      "Percentage of digit 0: 9.83%\n",
      "Percentage of digit 1: 11.52%\n",
      "Percentage of digit 2: 9.67%\n",
      "Percentage of digit 3: 10.34%\n",
      "Percentage of digit 4: 9.06%\n",
      "Percentage of digit 5: 9.37%\n",
      "Percentage of digit 6: 9.61%\n",
      "Percentage of digit 7: 10.55%\n",
      "Percentage of digit 8: 9.69%\n",
      "Percentage of digit 9: 10.36%\n"
     ]
    }
   ],
   "source": [
    "# Count occurrences of each digit in the train set\n",
    "train_digit_counts = np.bincount(y_train)\n",
    "\n",
    "# Calculate total number of samples in the train set\n",
    "train_total_samples = len(y_train)\n",
    "\n",
    "# Calculate percentage of each digit in the train set\n",
    "train_digit_percentages = (train_digit_counts / train_total_samples) * 100\n",
    "\n",
    "# Print the percentages for the train set\n",
    "print(\"Percentage of each digit in the train set:\")\n",
    "for digit, percentage in enumerate(train_digit_percentages):\n",
    "    print(f\"Percentage of digit {digit}: {percentage:.2f}%\")\n",
    "\n",
    "print(\"\")\n",
    "\n",
    "# Count occurrences of each digit in the test set\n",
    "test_digit_counts = np.bincount(y_test)\n",
    "\n",
    "# Calculate total number of samples in the test set\n",
    "test_total_samples = len(y_test)\n",
    "\n",
    "# Calculate percentage of each digit in the test set\n",
    "test_digit_percentages = (test_digit_counts / test_total_samples) * 100\n",
    "\n",
    "# Print the percentages for the test set\n",
    "print(\"Percentage of each digit in the test set:\")\n",
    "for digit, percentage in enumerate(test_digit_percentages):\n",
    "    print(f\"Percentage of digit {digit}: {percentage:.2f}%\")"
   ]
  },
  {
   "cell_type": "code",
   "execution_count": 13,
   "id": "40aad839-a1b1-4549-a02e-ec1d91b04e7d",
   "metadata": {},
   "outputs": [
    {
     "data": {
      "image/png": "[encoded data removed]",
      "text/plain": [
       "<Figure size 640x480 with 1 Axes>"
      ]
     },
     "metadata": {},
     "output_type": "display_data"
    }
   ],
   "source": [
    "# Plotting\n",
    "digits = np.arange(10)\n",
    "width = 0.35\n",
    "\n",
    "fig, ax = plt.subplots()\n",
    "rects1 = ax.bar(digits - width/2, train_digit_percentages, width, label='Train Set')\n",
    "rects2 = ax.bar(digits + width/2, test_digit_percentages, width, label='Test Set')\n",
    "\n",
    "ax.set_ylabel('Percentage')\n",
    "ax.set_title('Percentage of Digits in Train and Test Sets')\n",
    "ax.set_xticks(digits)\n",
    "ax.set_xticklabels(digits)\n",
    "ax.legend()\n",
    "\n",
    "plt.show()"
   ]
  },
  {
   "cell_type": "code",
   "execution_count": null,
   "id": "b9c3b1df-cfc1-4751-87cb-9b4390ff29b4",
   "metadata": {},
   "outputs": [],
   "source": []
  }
 ],
 "metadata": {
  "kernelspec": {
   "display_name": "Python 3 (ipykernel)",
   "language": "python",
   "name": "python3"
  },
  "language_info": {
   "codemirror_mode": {
    "name": "ipython",
    "version": 3
   },
   "file_extension": ".py",
   "mimetype": "text/x-python",
   "name": "python",
   "nbconvert_exporter": "python",
   "pygments_lexer": "ipython3",
   "version": "3.11.8"
  }
 },
 "nbformat": 4,
 "nbformat_minor": 5
}
